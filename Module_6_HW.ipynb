{
 "cells": [
  {
   "cell_type": "code",
   "execution_count": 1,
   "metadata": {},
   "outputs": [],
   "source": [
    "import numpy as np\n",
    "from sklearn.linear_model import LinearRegression\n",
    "from random import randint\n",
    "from sklearn.preprocessing import StandardScaler"
   ]
  },
  {
   "cell_type": "markdown",
   "metadata": {},
   "source": [
    "# Hапишіть функцію гіпотези лінійної регресії у векторному вигляді"
   ]
  },
  {
   "cell_type": "code",
   "execution_count": 2,
   "metadata": {},
   "outputs": [],
   "source": [
    "def linear_regresion(x, w0=0, w1=0):\n",
    "    return w0 + w1 * x"
   ]
  },
  {
   "cell_type": "markdown",
   "metadata": {},
   "source": [
    "Використання функції гіпотези лінійної регресії у векторному вигляді"
   ]
  },
  {
   "cell_type": "code",
   "execution_count": 3,
   "metadata": {},
   "outputs": [
    {
     "data": {
      "text/plain": [
       "array([0, 0, 0, 0])"
      ]
     },
     "execution_count": 3,
     "metadata": {},
     "output_type": "execute_result"
    }
   ],
   "source": [
    "input_data = np.array([2, 3, 4, 5])\n",
    "\n",
    "output_data = input_data * 3 + 2\n",
    "\n",
    "h_res = linear_regresion(input_data)\n",
    "h_res"
   ]
  },
  {
   "cell_type": "markdown",
   "metadata": {},
   "source": [
    "# Cтворіть функцію для обчислення функції втрат у векторному вигляді\n"
   ]
  },
  {
   "cell_type": "code",
   "execution_count": 4,
   "metadata": {},
   "outputs": [],
   "source": [
    "def mse(predicted_results, true_results, w0=0, w1=0):\n",
    "    return 1 / (2 * len(predicted_results)) * np.sum((linear_regresion(predicted_results, w0, w1) - true_results) ** 2)"
   ]
  },
  {
   "cell_type": "markdown",
   "metadata": {},
   "source": [
    "Використання функції для обчислення функції втрат у векторному вигляді"
   ]
  },
  {
   "cell_type": "code",
   "execution_count": 5,
   "metadata": {},
   "outputs": [
    {
     "data": {
      "text/plain": [
       "83.75"
      ]
     },
     "execution_count": 5,
     "metadata": {},
     "output_type": "execute_result"
    }
   ],
   "source": [
    "mse(input_data, output_data)"
   ]
  },
  {
   "cell_type": "markdown",
   "metadata": {},
   "source": [
    "# Pеалізуйте один крок градієнтного спуску\n"
   ]
  },
  {
   "cell_type": "code",
   "execution_count": 6,
   "metadata": {},
   "outputs": [],
   "source": [
    "def grad_descent(input_data_, output_data_, iter=1000, lr=0.01, stopping_value=0.0001):\n",
    "    w0 = 0\n",
    "    w1 = 0\n",
    "    n = len(input_data_)\n",
    "    last_mse_result = None\n",
    "\n",
    "    for _ in range(iter):\n",
    "        linear_regresion_result = linear_regresion(input_data_, w0, w1)\n",
    "        mse_result = mse(linear_regresion_result, output_data_, w0, w1)\n",
    "\n",
    "        if last_mse_result and abs(mse_result - last_mse_result) <= stopping_value:\n",
    "            break\n",
    "\n",
    "        last_mse_result = mse_result\n",
    "\n",
    "        intercept_derivative = -(1/n) * np.sum(input_data_ * (output_data_ - linear_regresion_result))\n",
    "        slope_derivative = -(1/n) * np.sum(output_data_ - linear_regresion_result)\n",
    "\n",
    "        w0 -= slope_derivative * lr\n",
    "        w1 -= intercept_derivative * lr\n",
    "\n",
    "    return w0, w1"
   ]
  },
  {
   "cell_type": "code",
   "execution_count": 7,
   "metadata": {},
   "outputs": [],
   "source": [
    "w0, w1 = grad_descent(input_data, output_data)"
   ]
  },
  {
   "cell_type": "code",
   "execution_count": 8,
   "metadata": {},
   "outputs": [
    {
     "name": "stdout",
     "output_type": "stream",
     "text": [
      "[ 8. 11. 14. 17.]\n",
      "[ 8 11 14 17]\n"
     ]
    }
   ],
   "source": [
    "print(linear_regresion(input_data, w0, w1).round())\n",
    "print(output_data.round())"
   ]
  },
  {
   "cell_type": "markdown",
   "metadata": {},
   "source": [
    "# 3найдіть найкращі параметри w для датасету використовуючи написані вами функції, прогнозуючу ціну на будинок залежно від площі, кількості ванних кімнат та кількості спалень"
   ]
  },
  {
   "cell_type": "code",
   "execution_count": 9,
   "metadata": {},
   "outputs": [],
   "source": [
    "import pandas as pd\n",
    "\n",
    "df = pd.read_csv('Housing.csv')[['price', 'area', 'bedrooms', 'bathrooms']]\n",
    "\n",
    "h_input_data = df[['area', 'bedrooms', 'bathrooms']].values\n",
    "h_input_data = StandardScaler().fit(h_input_data).transform(h_input_data)\n",
    "\n",
    "h_output_data = df[['price']].values.reshape(-1)\n"
   ]
  },
  {
   "cell_type": "code",
   "execution_count": 10,
   "metadata": {},
   "outputs": [],
   "source": [
    "def multiple_linear_regresion(input_data_, weights):\n",
    "    return weights[0] + np.dot(input_data_, weights[1:])\n",
    "\n",
    "def multiple_mse(predicted_results, true_results):\n",
    "    return 1 / (2 * len(true_results)) * np.sum((predicted_results - true_results) ** 2) "
   ]
  },
  {
   "cell_type": "code",
   "execution_count": 11,
   "metadata": {},
   "outputs": [],
   "source": [
    "def gradient_descent_multiple(input_data_, output_data_, iter=1000, lr=0.1, stopping_value=0.01):\n",
    "    weights = np.ones(input_data_.shape[1] + 1)\n",
    "    n = len(input_data_)\n",
    "    last_mse_result = None\n",
    "\n",
    "    for _ in range(iter):\n",
    "        multiple_linear_regresion_result = multiple_linear_regresion(input_data_, weights)\n",
    "        multiple_mse_result = multiple_mse(multiple_linear_regresion_result, output_data_)\n",
    "        \n",
    "        if last_mse_result and (abs(multiple_mse_result - last_mse_result) <= stopping_value):\n",
    "            break\n",
    "\n",
    "        last_mse_result = multiple_mse_result\n",
    "\n",
    "        weights[0] -= lr * (1/n) * np.sum(multiple_linear_regresion_result - output_data_)\n",
    "\n",
    "        random_index = randint(0, len(weights[1:]) - 1)\n",
    "        last_weights = (1/n) * np.sum((multiple_linear_regresion_result - output_data_) * input_data_[:, random_index])\n",
    "        weights[random_index + 1] -= lr * last_weights\n",
    "\n",
    "    return weights\n",
    "\n",
    "model_result = multiple_linear_regresion(h_input_data, gradient_descent_multiple(h_input_data, h_output_data))"
   ]
  },
  {
   "cell_type": "code",
   "execution_count": 12,
   "metadata": {},
   "outputs": [],
   "source": [
    "model = LinearRegression()\n",
    "model.fit(h_input_data, h_output_data)\n",
    "model_result_lib = model.predict(h_input_data)"
   ]
  },
  {
   "cell_type": "code",
   "execution_count": 13,
   "metadata": {},
   "outputs": [
    {
     "data": {
      "image/png": "[encoded data removed]",
      "text/plain": [
       "<Figure size 1000x500 with 1 Axes>"
      ]
     },
     "metadata": {},
     "output_type": "display_data"
    }
   ],
   "source": [
    "import matplotlib.pyplot as plt\n",
    "\n",
    "predicted_values = model_result\n",
    "\n",
    "actual_values = h_output_data\n",
    "\n",
    "plt.figure(figsize=(10, 5))\n",
    "plt.plot(np.sort(predicted_values)[::-1], label='Predicted')\n",
    "plt.plot(np.sort(model_result_lib)[::-1], label='Predicted by Lib', linestyle='--')\n",
    "plt.plot(actual_values, label='Actual')\n",
    "plt.xlabel('Samples')\n",
    "plt.ylabel('Values')\n",
    "plt.title('Comparison of Predicted and Actual Values')\n",
    "plt.legend()\n",
    "plt.grid(True)\n",
    "plt.show()"
   ]
  },
  {
   "cell_type": "markdown",
   "metadata": {},
   "source": [
    "# 3найдіть ці ж параметри за допомогою аналітичного рішення"
   ]
  },
  {
   "cell_type": "code",
   "execution_count": 14,
   "metadata": {},
   "outputs": [
    {
     "data": {
      "text/plain": [
       "array([4766729.24770642,  821214.14349518,  299983.57107963,\n",
       "        695808.52272538])"
      ]
     },
     "execution_count": 14,
     "metadata": {},
     "output_type": "execute_result"
    }
   ],
   "source": [
    "h_input_data_with_ones = np.hstack([np.ones((h_input_data.shape[0], 1)), h_input_data])\n",
    "theta = np.linalg.inv(h_input_data_with_ones.T @ h_input_data_with_ones) @ h_input_data_with_ones.T @ h_output_data\n",
    "\n",
    "theta"
   ]
  },
  {
   "cell_type": "markdown",
   "metadata": {},
   "source": [
    "# Для перевірки спрогнозованих значень, використайте LinearRegression з бібліотеки scikit-learn та порівняйте результати"
   ]
  },
  {
   "cell_type": "code",
   "execution_count": 15,
   "metadata": {},
   "outputs": [
    {
     "data": {
      "text/plain": [
       "(array([821214.14349519, 299983.57107963, 695808.52272537]), 4766729.247706422)"
      ]
     },
     "execution_count": 15,
     "metadata": {},
     "output_type": "execute_result"
    }
   ],
   "source": [
    "model.coef_, model.intercept_"
   ]
  }
 ],
 "metadata": {
  "kernelspec": {
   "display_name": ".venv",
   "language": "python",
   "name": "python3"
  },
  "language_info": {
   "codemirror_mode": {
    "name": "ipython",
    "version": 3
   },
   "file_extension": ".py",
   "mimetype": "text/x-python",
   "name": "python",
   "nbconvert_exporter": "python",
   "pygments_lexer": "ipython3",
   "version": "3.12.3"
  }
 },
 "nbformat": 4,
 "nbformat_minor": 2
}
