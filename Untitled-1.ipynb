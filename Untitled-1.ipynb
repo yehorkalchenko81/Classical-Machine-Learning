{
 "cells": [
  {
   "cell_type": "code",
   "execution_count": 470,
   "metadata": {},
   "outputs": [],
   "source": [
    "import numpy as np\n",
    "from sklearn.linear_model import LinearRegression"
   ]
  },
  {
   "cell_type": "markdown",
   "metadata": {},
   "source": [
    "# Hапишіть функцію гіпотези лінійної регресії у векторному вигляді"
   ]
  },
  {
   "cell_type": "code",
   "execution_count": 471,
   "metadata": {},
   "outputs": [],
   "source": [
    "def linear_regresion(x, w0=0, w1=0):\n",
    "    return w0 + w1 * x"
   ]
  },
  {
   "cell_type": "markdown",
   "metadata": {},
   "source": [
    "Використання функції гіпотези лінійної регресії у векторному вигляді"
   ]
  },
  {
   "cell_type": "code",
   "execution_count": 472,
   "metadata": {},
   "outputs": [
    {
     "data": {
      "text/plain": [
       "array([0, 0, 0, 0])"
      ]
     },
     "execution_count": 472,
     "metadata": {},
     "output_type": "execute_result"
    }
   ],
   "source": [
    "input_data = np.array([2, 3, 4, 5])\n",
    "\n",
    "output_data = input_data * 3 + 2\n",
    "\n",
    "h_res = linear_regresion(input_data)\n",
    "h_res"
   ]
  },
  {
   "cell_type": "markdown",
   "metadata": {},
   "source": [
    "# Cтворіть функцію для обчислення функції втрат у векторному вигляді\n"
   ]
  },
  {
   "cell_type": "code",
   "execution_count": 473,
   "metadata": {},
   "outputs": [],
   "source": [
    "def mse(predicted_results, true_results, w0=0, w1=0):\n",
    "    return 1 / (2 * len(predicted_results)) * np.sum((linear_regresion(predicted_results, w0, w1) - true_results) ** 2)"
   ]
  },
  {
   "cell_type": "markdown",
   "metadata": {},
   "source": [
    "Використання функції для обчислення функції втрат у векторному вигляді"
   ]
  },
  {
   "cell_type": "code",
   "execution_count": 474,
   "metadata": {},
   "outputs": [
    {
     "data": {
      "text/plain": [
       "83.75"
      ]
     },
     "execution_count": 474,
     "metadata": {},
     "output_type": "execute_result"
    }
   ],
   "source": [
    "mse(input_data, output_data)"
   ]
  },
  {
   "cell_type": "markdown",
   "metadata": {},
   "source": [
    "# Pеалізуйте один крок градієнтного спуску\n"
   ]
  },
  {
   "cell_type": "code",
   "execution_count": 475,
   "metadata": {},
   "outputs": [],
   "source": [
    "def grad_descent(x, y, iter=1000, lr=0.1, stopping_value=0.00001):\n",
    "    w0 = 0\n",
    "    w1 = 0\n",
    "    n = len(x)\n",
    "    prev_cost = None\n",
    "\n",
    "    for i in range(iter):\n",
    "        result = linear_regresion(x, w0, w1)\n",
    "        cost = mse(x, y, w0, w1)\n",
    "\n",
    "        if prev_cost and abs(cost - prev_cost) <= stopping_value:\n",
    "            break\n",
    "\n",
    "        prev_cost = cost\n",
    "\n",
    "        intercept_derivative = -(1/n) * np.sum(x * (y - result))\n",
    "        slope_derivative  = -(1/n) * np.sum(y - result)\n",
    "\n",
    "        w0 -= slope_derivative * lr\n",
    "        w1 -= intercept_derivative * lr\n",
    "\n",
    "    return w0, w1"
   ]
  },
  {
   "cell_type": "code",
   "execution_count": 476,
   "metadata": {},
   "outputs": [],
   "source": [
    "w0, w1 = grad_descent(input_data, output_data)"
   ]
  },
  {
   "cell_type": "code",
   "execution_count": 477,
   "metadata": {},
   "outputs": [
    {
     "name": "stdout",
     "output_type": "stream",
     "text": [
      "[ 8. 11. 14. 17.]\n",
      "[ 8 11 14 17]\n"
     ]
    }
   ],
   "source": [
    "print(h(X, w0, w1).round())\n",
    "print(y.round())"
   ]
  }
 ],
 "metadata": {
  "kernelspec": {
   "display_name": ".venv",
   "language": "python",
   "name": "python3"
  },
  "language_info": {
   "codemirror_mode": {
    "name": "ipython",
    "version": 3
   },
   "file_extension": ".py",
   "mimetype": "text/x-python",
   "name": "python",
   "nbconvert_exporter": "python",
   "pygments_lexer": "ipython3",
   "version": "3.12.3"
  }
 },
 "nbformat": 4,
 "nbformat_minor": 2
}
